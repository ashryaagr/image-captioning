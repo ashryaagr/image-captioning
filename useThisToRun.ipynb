{
 "cells": [
  {
   "cell_type": "code",
   "execution_count": null,
   "id": "1b8671e5",
   "metadata": {},
   "outputs": [],
   "source": [
    "!pip install pycocotools --user"
   ]
  },
  {
   "cell_type": "code",
   "execution_count": 13,
   "id": "1f1ea2c7",
   "metadata": {},
   "outputs": [
    {
     "name": "stderr",
     "output_type": "stream",
     "text": [
      "[nltk_data] Downloading package punkt to /home/aghafari/nltk_data...\n",
      "[nltk_data]   Package punkt is already up-to-date!\n"
     ]
    },
    {
     "data": {
      "text/plain": [
       "True"
      ]
     },
     "execution_count": 13,
     "metadata": {},
     "output_type": "execute_result"
    }
   ],
   "source": [
    "import nltk\n",
    "nltk.download('punkt')"
   ]
  },
  {
   "cell_type": "code",
   "execution_count": 144,
   "id": "04703bd3",
   "metadata": {},
   "outputs": [],
   "source": [
    "import gc\n",
    "import torch\n",
    "gc.collect()\n",
    "torch.cuda.empty_cache()"
   ]
  },
  {
   "cell_type": "code",
   "execution_count": 160,
   "id": "40dd5f67",
   "metadata": {},
   "outputs": [],
   "source": [
    "!rm -rf experiment_data\n",
    "\n",
    "# Run this before main.py if it main.py crashed before ending an epoch because TA code sucks lmfao.."
   ]
  },
  {
   "cell_type": "code",
   "execution_count": 161,
   "id": "ff74f886",
   "metadata": {
    "scrolled": true
   },
   "outputs": [
    {
     "name": "stdout",
     "output_type": "stream",
     "text": [
      "Running Experiment:  LSTM_config\n",
      "{'experiment_name': 'LSTM', 'dataset': {'training_ids_file_path': './train_ids.csv', 'validation_ids_file_path': './val_ids.csv', 'test_ids_file_path': './test_ids.csv', 'training_annotation_file_path': './data/annotations/captions_train2014.json', 'test_annotation_file_path': './data/annotations/captions_val2014.json', 'images_root_dir': './data/images/', 'vocabulary_threshold': 2, 'img_size': 256, 'batch_size': 64, 'num_workers': 4}, 'experiment': {'num_epochs': 10, 'learning_rate': 0.0005, 'optimizer': 'torch.optim.AdamW(self.__model.parameters(), lr = self.__lr)', 'criterion': 'nn.CrossEntropyLoss()'}, 'model': {'hidden_size': 512, 'embedding_size': 300, 'no_layers': 2, 'model_type': 'LSTM', 'keep_image': False}, 'generation': {'max_length': 20, 'deterministic': False, 'temperature': 0.1}}\n",
      "LSTM_config\n",
      "./ LSTM_config.json\n",
      "loading annotations into memory...\n",
      "Done (t=0.68s)\n",
      "creating index...\n",
      "index created!\n",
      "loading annotations into memory...\n",
      "Done (t=0.30s)\n",
      "creating index...\n",
      "index created!\n",
      "Using the saved vocab.\n",
      "loading annotations into memory...\n",
      "Done (t=0.61s)\n",
      "creating index...\n",
      "index created!\n",
      "/opt/conda/lib/python3.9/site-packages/torchvision/transforms/transforms.py:280: UserWarning: Argument interpolation should be of type InterpolationMode instead of int. Please, use InterpolationMode enum.\n",
      "  warnings.warn(\n",
      "loading annotations into memory...\n",
      "Done (t=0.62s)\n",
      "creating index...\n",
      "index created!\n",
      "loading annotations into memory...\n",
      "Done (t=0.29s)\n",
      "creating index...\n",
      "index created!\n",
      "/opt/conda/lib/python3.9/site-packages/torch/nn/functional.py:718: UserWarning: Named tensors and all their associated APIs are an experimental feature and subject to change. Please do not use them for anything important until they are released as stable. (Triggered internally at  /pytorch/c10/core/TensorImpl.h:1156.)\n",
      "  return torch.max_pool2d(input, kernel_size, stride, padding, dilation, ceil_mode)\n",
      "test => Epoch: 1, iter: 1, Loss: 9.586380958557129\n",
      "test => Epoch: 1, iter: 11, Loss: 9.58570384979248\n",
      "test => Epoch: 1, iter: 21, Loss: 9.583839416503906\n",
      "test => Epoch: 1, iter: 31, Loss: 9.586136817932129\n",
      "test => Epoch: 1, iter: 41, Loss: 9.585657119750977\n",
      "test => Epoch: 1, iter: 51, Loss: 9.585908889770508\n",
      "test => Epoch: 1, iter: 61, Loss: 9.586404800415039\n",
      "test => Epoch: 1, iter: 71, Loss: 9.586711883544922\n",
      "test => Epoch: 1, iter: 81, Loss: 9.586832046508789\n",
      "test => Epoch: 1, iter: 91, Loss: 9.585941314697266\n",
      "test => Epoch: 1, iter: 101, Loss: 9.586668014526367\n",
      "test => Epoch: 1, iter: 111, Loss: 9.586478233337402\n",
      "test => Epoch: 1, iter: 121, Loss: 9.58561897277832\n",
      "test => Epoch: 1, iter: 131, Loss: 9.586854934692383\n",
      "test => Epoch: 1, iter: 141, Loss: 9.585121154785156\n",
      "test => Epoch: 1, iter: 151, Loss: 9.585554122924805\n",
      "test => Epoch: 1, iter: 161, Loss: 9.585346221923828\n",
      "test => Epoch: 1, iter: 171, Loss: 9.5836181640625\n",
      "test => Epoch: 1, iter: 181, Loss: 9.585226058959961\n",
      "test => Epoch: 1, iter: 191, Loss: 9.586403846740723\n",
      "test => Epoch: 1, iter: 201, Loss: 9.58540153503418\n",
      "test => Epoch: 1, iter: 211, Loss: 9.586419105529785\n",
      "test => Epoch: 1, iter: 221, Loss: 9.584959983825684\n",
      "test => Epoch: 1, iter: 231, Loss: 9.58525562286377\n",
      "Traceback (most recent call last):\n",
      "  File \"/home/aghafari/main.py\", line 24, in <module>\n",
      "    test_loss, bleu1_score, bleu4_score = exp.test()\n",
      "  File \"/home/aghafari/experiment.py\", line 243, in test\n",
      "    result_str = \"Test Performance: Loss: {}, Perplexity: {}, Bleu1: {}, Bleu4: {}\".format(test_loss,\n",
      "IndexError: Replacement index 3 out of range for positional args tuple\n"
     ]
    }
   ],
   "source": [
    "!python main.py LSTM_config train\n",
    "\n",
    "# python main.py configName train\n",
    "# python main.py configName test"
   ]
  },
  {
   "cell_type": "code",
   "execution_count": null,
   "id": "c98e7c9b",
   "metadata": {},
   "outputs": [],
   "source": [
    "\n"
   ]
  },
  {
   "cell_type": "code",
   "execution_count": null,
   "id": "0aa1c907",
   "metadata": {},
   "outputs": [],
   "source": []
  },
  {
   "cell_type": "code",
   "execution_count": null,
   "id": "11081089",
   "metadata": {},
   "outputs": [],
   "source": []
  }
 ],
 "metadata": {
  "kernelspec": {
   "display_name": "Python 3 (ipykernel)",
   "language": "python",
   "name": "python3"
  },
  "language_info": {
   "codemirror_mode": {
    "name": "ipython",
    "version": 3
   },
   "file_extension": ".py",
   "mimetype": "text/x-python",
   "name": "python",
   "nbconvert_exporter": "python",
   "pygments_lexer": "ipython3",
   "version": "3.9.5"
  }
 },
 "nbformat": 4,
 "nbformat_minor": 5
}
